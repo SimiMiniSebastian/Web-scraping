{
 "cells": [
  {
   "cell_type": "code",
   "execution_count": 1,
   "id": "c97a135a",
   "metadata": {},
   "outputs": [
    {
     "name": "stdout",
     "output_type": "stream",
     "text": [
      "Collecting package metadata (current_repodata.json): ...working... done"
     ]
    },
    {
     "name": "stderr",
     "output_type": "stream",
     "text": [
      "\n",
      "\n",
      "==> WARNING: A newer version of conda exists. <==\n",
      "  current version: 4.12.0\n",
      "  latest version: 24.9.2\n"
     ]
    },
    {
     "name": "stdout",
     "output_type": "stream",
     "text": [
      "\n",
      "Solving environment: ...working... failed with initial frozen solve. Retrying with flexible solve.\n",
      "Solving environment: ...working... failed with repodata from current_repodata.json, will retry with next repodata source.\n",
      "Collecting package metadata (repodata.json): ...working... done\n",
      "Solving environment: ...working... done\n",
      "\n",
      "## Package Plan ##\n",
      "\n",
      "  environment location: C:\\Users\\simis\\anaconda3\n",
      "\n",
      "  added / updated specs:\n",
      "    - selenium\n",
      "\n",
      "\n",
      "The following packages will be downloaded:\n",
      "\n",
      "    package                    |            build\n",
      "    ---------------------------|-----------------\n",
      "    selenium-3.141.0           |py39h2bbff1b_1000         815 KB\n",
      "    ------------------------------------------------------------\n",
      "                                           Total:         815 KB\n",
      "\n",
      "The following NEW packages will be INSTALLED:\n",
      "\n",
      "  selenium           pkgs/main/win-64::selenium-3.141.0-py39h2bbff1b_1000\n",
      "\n",
      "\n",
      "\n",
      "Downloading and Extracting Packages\n",
      "\n",
      "selenium-3.141.0     | 815 KB    |            |   0% \n",
      "selenium-3.141.0     | 815 KB    | 1          |   2% \n",
      "selenium-3.141.0     | 815 KB    | ###5       |  35% \n",
      "selenium-3.141.0     | 815 KB    | #########4 |  94% \n",
      "selenium-3.141.0     | 815 KB    | ########## | 100% \n",
      "Preparing transaction: ...working... done\n",
      "Verifying transaction: ...working... done\n",
      "Executing transaction: ...working... done\n"
     ]
    },
    {
     "name": "stderr",
     "output_type": "stream",
     "text": [
      "\n",
      "Please update conda by running\n",
      "\n",
      "    $ conda update -n base -c defaults conda\n",
      "\n",
      "\n"
     ]
    }
   ],
   "source": [
    "#-------------installing Selenium-----------------------------\n",
    "\n",
    "\n",
    "!conda install selenium -y\n"
   ]
  },
  {
   "cell_type": "code",
   "execution_count": 8,
   "id": "b40f05b6",
   "metadata": {},
   "outputs": [
    {
     "name": "stdout",
     "output_type": "stream",
     "text": [
      "Collecting plyer\n",
      "  Downloading plyer-2.1.0-py2.py3-none-any.whl (142 kB)\n",
      "Installing collected packages: plyer\n",
      "Successfully installed plyer-2.1.0\n",
      "Note: you may need to restart the kernel to use updated packages.\n"
     ]
    }
   ],
   "source": [
    "#--------------------------installing plyer----------------------------\n",
    "\n",
    "pip install plyer"
   ]
  },
  {
   "cell_type": "code",
   "execution_count": 10,
   "id": "f6c05eca",
   "metadata": {},
   "outputs": [
    {
     "name": "stdout",
     "output_type": "stream",
     "text": [
      "Current Conditions Summary: NA 47°F 8°C\n"
     ]
    }
   ],
   "source": [
    "#-----------------installing necessary libraries----------------------------\n",
    "\n",
    "\n",
    "from bs4 import BeautifulSoup\n",
    "import requests\n",
    "import csv\n",
    "from plyer import notification\n",
    "\n",
    "# --------Defining the url to web scraping-------------------------------\n",
    "url = \"https://forecast.weather.gov/MapClick.php?lat=37.7772&lon=-122.4168\"\n",
    "headers = {\n",
    "    \"User-Agent\": \"Mozilla/5.0 (Windows NT 10.0; Win64; x64) AppleWebKit/537.36 (KHTML, like Gecko) Chrome/92.0.4515.159 Safari/537.36\"\n",
    "}\n",
    "\n",
    "# -------------------scraping the web site--------------------------------\n",
    "page = requests.get(url, headers=headers)\n",
    "soup = BeautifulSoup(page.content, \"html.parser\")\n",
    "\n",
    "#-------------------Extracting the current conditions----------------------\n",
    "summary = soup.find(id=\"current_conditions-summary\").get_text(separator=\" \", strip=True)\n",
    "print(\"Current Conditions Summary:\", summary)\n",
    "\n",
    "# -------------------spilitting the summary get temperature-----------------\n",
    "data_parts = summary.split()\n",
    "headers = ['Climate', 'in Fahrenheit', 'in Celsius']\n",
    "temperature_fahrenheit = data_parts[1]\n",
    "temperature_celsius = float(data_parts[2].replace('°C', ''))  # Clean the string and convert to float\n",
    "\n",
    "# -------------------fetching the data into csv------------------------------\n",
    "data = [[data_parts[0], temperature_fahrenheit, temperature_celsius]]\n",
    "with open('weather_webscraping.csv', 'w', newline='', encoding='UTF8') as f:\n",
    "    writer = csv.writer(f)\n",
    "    writer.writerow(headers)\n",
    "    writer.writerow(data[0])\n",
    "\n",
    "# ------------------settings to send the notification-----------------------\n",
    "def send_notification(temp_celsius, temp_fahrenheit, climate):\n",
    "    notification.notify(\n",
    "        title=\"Today's Weather Update\",\n",
    "        message=f\"Climate: {climate}\\nTemperature: {temp_fahrenheit}°F ({temp_celsius}°C)\",\n",
    "        timeout=10  # Notification stays for 10 seconds\n",
    "    )\n",
    "\n",
    "# ------------------Send notification with temperature details---------------------------\n",
    "send_notification(temperature_celsius, temperature_fahrenheit, data_parts[0])\n"
   ]
  },
  {
   "cell_type": "code",
   "execution_count": null,
   "id": "bc390a68",
   "metadata": {},
   "outputs": [],
   "source": []
  }
 ],
 "metadata": {
  "kernelspec": {
   "display_name": "Python 3 (ipykernel)",
   "language": "python",
   "name": "python3"
  },
  "language_info": {
   "codemirror_mode": {
    "name": "ipython",
    "version": 3
   },
   "file_extension": ".py",
   "mimetype": "text/x-python",
   "name": "python",
   "nbconvert_exporter": "python",
   "pygments_lexer": "ipython3",
   "version": "3.9.12"
  }
 },
 "nbformat": 4,
 "nbformat_minor": 5
}
